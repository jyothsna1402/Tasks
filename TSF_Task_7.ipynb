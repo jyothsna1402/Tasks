{
  "nbformat": 4,
  "nbformat_minor": 0,
  "metadata": {
    "accelerator": "GPU",
    "colab": {
      "name": "TSF_Task_7",
      "provenance": [],
      "machine_shape": "hm",
      "include_colab_link": true
    },
    "kernelspec": {
      "display_name": "Python 3",
      "name": "python3"
    },
    "language_info": {
      "name": "python"
    }
  },
  "cells": [
    {
      "cell_type": "markdown",
      "metadata": {
        "id": "view-in-github",
        "colab_type": "text"
      },
      "source": [
        "<a href=\"https://colab.research.google.com/github/jyothsna1402/Tasks/blob/main/TSF_Task_7.ipynb\" target=\"_parent\"><img src=\"https://colab.research.google.com/assets/colab-badge.svg\" alt=\"Open In Colab\"/></a>"
      ]
    },
    {
      "cell_type": "markdown",
      "metadata": {
        "id": "f9xlC8m6aVe4"
      },
      "source": [
        "##**Task-7:  Create a hybrid model for stock price/performance prediction using numerical analysis of historical stock prices, and sentimental analysis of news headlines**"
      ]
    },
    {
      "cell_type": "markdown",
      "metadata": {
        "id": "-oobOp4AupGm"
      },
      "source": [
        "###**1 Downloading Datasets | Stock Price Data | News Headlines Data**"
      ]
    },
    {
      "cell_type": "code",
      "metadata": {
        "colab": {
          "base_uri": "https://localhost:8080/"
        },
        "id": "gnMe_NUQPwjY",
        "outputId": "5a423036-ead1-4226-e320-a586a8afcb58"
      },
      "source": [
        "import os\n",
        "import warnings\n",
        "warnings.filterwarnings('ignore')\n",
        "import pandas as pd\n",
        "import numpy as np\n",
        "import matplotlib.pyplot as plt\n",
        "import itertools\n",
        "from statsmodels.tsa.stattools import adfuller, acf, pacf\n",
        "from statsmodels.tsa.arima_model import ARIMA\n",
        "import nltk\n",
        "import re\n",
        "from nltk.corpus import stopwords\n",
        "nltk.download('stopwords')\n",
        "nltk.download('vader_lexicon')\n",
        "from textblob import TextBlob\n",
        "from nltk.sentiment.vader import SentimentIntensityAnalyzer\n",
        "from nltk.stem.porter import PorterStemmer\n",
        "from sklearn.metrics import mean_squared_error\n",
        "from sklearn.model_selection import train_test_split\n",
        "from sklearn.ensemble import RandomForestRegressor, AdaBoostRegressor\n",
        "import xgboost \n",
        "import lightgbm"
      ],
      "execution_count": null,
      "outputs": [
        {
          "output_type": "stream",
          "text": [
            "[nltk_data] Downloading package stopwords to /root/nltk_data...\n",
            "[nltk_data]   Package stopwords is already up-to-date!\n",
            "[nltk_data] Downloading package vader_lexicon to /root/nltk_data...\n",
            "[nltk_data]   Package vader_lexicon is already up-to-date!\n"
          ],
          "name": "stdout"
        }
      ]
    },
    {
      "cell_type": "code",
      "metadata": {
        "colab": {
          "base_uri": "https://localhost:8080/"
        },
        "id": "_8O9n4E0Ok96",
        "outputId": "f1401dd3-4187-47ea-fa83-9117cbb98141"
      },
      "source": [
        "!pip install pmdarima"
      ],
      "execution_count": null,
      "outputs": [
        {
          "output_type": "stream",
          "text": [
            "Requirement already satisfied: pmdarima in /usr/local/lib/python3.7/dist-packages (1.8.2)\n",
            "Requirement already satisfied: setuptools!=50.0.0,>=38.6.0 in /usr/local/lib/python3.7/dist-packages (from pmdarima) (57.0.0)\n",
            "Requirement already satisfied: scipy>=1.3.2 in /usr/local/lib/python3.7/dist-packages (from pmdarima) (1.4.1)\n",
            "Requirement already satisfied: pandas>=0.19 in /usr/local/lib/python3.7/dist-packages (from pmdarima) (1.1.5)\n",
            "Requirement already satisfied: statsmodels!=0.12.0,>=0.11 in /usr/local/lib/python3.7/dist-packages (from pmdarima) (0.12.2)\n",
            "Requirement already satisfied: numpy~=1.19.0 in /usr/local/lib/python3.7/dist-packages (from pmdarima) (1.19.5)\n",
            "Requirement already satisfied: joblib>=0.11 in /usr/local/lib/python3.7/dist-packages (from pmdarima) (1.0.1)\n",
            "Requirement already satisfied: urllib3 in /usr/local/lib/python3.7/dist-packages (from pmdarima) (1.24.3)\n",
            "Requirement already satisfied: Cython!=0.29.18,>=0.29 in /usr/local/lib/python3.7/dist-packages (from pmdarima) (0.29.23)\n",
            "Requirement already satisfied: scikit-learn>=0.22 in /usr/local/lib/python3.7/dist-packages (from pmdarima) (0.22.2.post1)\n",
            "Requirement already satisfied: pytz>=2017.2 in /usr/local/lib/python3.7/dist-packages (from pandas>=0.19->pmdarima) (2018.9)\n",
            "Requirement already satisfied: python-dateutil>=2.7.3 in /usr/local/lib/python3.7/dist-packages (from pandas>=0.19->pmdarima) (2.8.1)\n",
            "Requirement already satisfied: patsy>=0.5 in /usr/local/lib/python3.7/dist-packages (from statsmodels!=0.12.0,>=0.11->pmdarima) (0.5.1)\n",
            "Requirement already satisfied: six>=1.5 in /usr/local/lib/python3.7/dist-packages (from python-dateutil>=2.7.3->pandas>=0.19->pmdarima) (1.15.0)\n"
          ],
          "name": "stdout"
        }
      ]
    },
    {
      "cell_type": "code",
      "metadata": {
        "colab": {
          "base_uri": "https://localhost:8080/"
        },
        "id": "x_fyuQmAOlYP",
        "outputId": "170157b4-b733-49ca-a8a3-2a967496b905"
      },
      "source": [
        "df_prices = pd.read_csv('/content/sample_data/BSESN.csv')\n",
        "print(df_prices.head())\n",
        "print(df_prices.size)"
      ],
      "execution_count": null,
      "outputs": [
        {
          "output_type": "stream",
          "text": [
            "         Date         Open         High  ...        Close    Adj Close  Volume\n",
            "0  1997-07-01  4263.109863  4301.770020  ...  4300.859863  4300.859863     0.0\n",
            "1  1997-07-02  4302.959961  4395.310059  ...  4333.899902  4333.899902     0.0\n",
            "2  1997-07-03  4335.790039  4393.290039  ...  4323.459961  4323.459961     0.0\n",
            "3  1997-07-04  4332.700195  4347.589844  ...  4323.819824  4323.819824     0.0\n",
            "4  1997-07-07  4326.810059  4391.009766  ...  4291.450195  4291.450195     0.0\n",
            "\n",
            "[5 rows x 7 columns]\n",
            "40810\n"
          ],
          "name": "stdout"
        }
      ]
    },
    {
      "cell_type": "code",
      "metadata": {
        "colab": {
          "base_uri": "https://localhost:8080/"
        },
        "id": "iFKeL4lnOsci",
        "outputId": "330c0d52-325b-438e-d658-72961e65b521"
      },
      "source": [
        "#Converting Date column to datetime datatype\n",
        "df_prices['Date'] = pd.to_datetime(df_prices['Date'])\n",
        "df_prices.info()"
      ],
      "execution_count": null,
      "outputs": [
        {
          "output_type": "stream",
          "text": [
            "<class 'pandas.core.frame.DataFrame'>\n",
            "RangeIndex: 5830 entries, 0 to 5829\n",
            "Data columns (total 7 columns):\n",
            " #   Column     Non-Null Count  Dtype         \n",
            "---  ------     --------------  -----         \n",
            " 0   Date       5830 non-null   datetime64[ns]\n",
            " 1   Open       5702 non-null   float64       \n",
            " 2   High       5702 non-null   float64       \n",
            " 3   Low        5702 non-null   float64       \n",
            " 4   Close      5702 non-null   float64       \n",
            " 5   Adj Close  5702 non-null   float64       \n",
            " 6   Volume     5702 non-null   float64       \n",
            "dtypes: datetime64[ns](1), float64(6)\n",
            "memory usage: 319.0 KB\n"
          ],
          "name": "stdout"
        }
      ]
    },
    {
      "cell_type": "code",
      "metadata": {
        "id": "LmfcwJCSOvR5"
      },
      "source": [
        "df_prices.dropna(inplace = True)"
      ],
      "execution_count": null,
      "outputs": []
    },
    {
      "cell_type": "code",
      "metadata": {
        "colab": {
          "base_uri": "https://localhost:8080/",
          "height": 391
        },
        "id": "Nj86eCCsOyvd",
        "outputId": "f2cb9fcf-e7f0-48f7-fccd-a723e243600d"
      },
      "source": [
        "plt.figure(figsize=(10, 6))\n",
        "df_prices['Close'].plot()\n",
        "plt.ylabel('Close')"
      ],
      "execution_count": null,
      "outputs": [
        {
          "output_type": "execute_result",
          "data": {
            "text/plain": [
              "Text(0, 0.5, 'Close')"
            ]
          },
          "metadata": {
            "tags": []
          },
          "execution_count": 6
        },
        {
          "output_type": "display_data",
          "data": {
            "image/png": "[encoded data removed]",
            "text/plain": [
              "<Figure size 720x432 with 1 Axes>"
            ]
          },
          "metadata": {
            "tags": [],
            "needs_background": "light"
          }
        }
      ]
    },
    {
      "cell_type": "code",
      "metadata": {
        "colab": {
          "base_uri": "https://localhost:8080/",
          "height": 391
        },
        "id": "SvJdkknEO2g4",
        "outputId": "bdb0df83-7ef4-41ab-a0db-eedfe516e105"
      },
      "source": [
        "#Plotting moving average\n",
        "close = df_prices['Close']\n",
        "ma = close.rolling(window = 50).mean()\n",
        "std = close.rolling(window = 50).std()\n",
        "\n",
        "plt.figure(figsize=(10, 6))\n",
        "df_prices['Close'].plot(color = 'b', label = 'Close')\n",
        "ma.plot(color = 'r', label = 'Rolling Mean')\n",
        "std.plot(label = 'Rolling Standard Deviation')\n",
        "plt.legend()"
      ],
      "execution_count": null,
      "outputs": [
        {
          "output_type": "execute_result",
          "data": {
            "text/plain": [
              "<matplotlib.legend.Legend at 0x7ff309033910>"
            ]
          },
          "metadata": {
            "tags": []
          },
          "execution_count": 7
        },
        {
          "output_type": "display_data",
          "data": {
            "image/png": "[encoded data removed]",
            "text/plain": [
              "<Figure size 720x432 with 1 Axes>"
            ]
          },
          "metadata": {
            "tags": [],
            "needs_background": "light"
          }
        }
      ]
    },
    {
      "cell_type": "code",
      "metadata": {
        "colab": {
          "base_uri": "https://localhost:8080/",
          "height": 407
        },
        "id": "3qA1kGKHPCqb",
        "outputId": "db4e77f1-694a-439a-e5e8-696c1d65ebdb"
      },
      "source": [
        "#Plotting returns\n",
        "returns = close / close.shift(1) - 1\n",
        "\n",
        "plt.figure(figsize = (10,6))\n",
        "returns.plot(label='Return', color = 'g')\n",
        "plt.title(\"Returns\")"
      ],
      "execution_count": null,
      "outputs": [
        {
          "output_type": "execute_result",
          "data": {
            "text/plain": [
              "Text(0.5, 1.0, 'Returns')"
            ]
          },
          "metadata": {
            "tags": []
          },
          "execution_count": 8
        },
        {
          "output_type": "display_data",
          "data": {
            "image/png": "[encoded data removed]",
            "text/plain": [
              "<Figure size 720x432 with 1 Axes>"
            ]
          },
          "metadata": {
            "tags": [],
            "needs_background": "light"
          }
        }
      ]
    },
    {
      "cell_type": "code",
      "metadata": {
        "id": "IdlLk5gGPGgg"
      },
      "source": [
        "train = df_prices[:1000]\n",
        "test = df_prices[1000:]"
      ],
      "execution_count": null,
      "outputs": []
    },
    {
      "cell_type": "code",
      "metadata": {
        "colab": {
          "base_uri": "https://localhost:8080/",
          "height": 620
        },
        "id": "DZbpxLPIPJwq",
        "outputId": "506e5c92-9f4c-42dc-8642-5794da2f611c"
      },
      "source": [
        "#Stationarity test\n",
        "def test_stationarity(timeseries):\n",
        "\n",
        " #Determing rolling statistics\n",
        " rolmean = timeseries.rolling(20).mean()\n",
        " rolstd = timeseries.rolling(20).std()\n",
        "\n",
        " #Plot rolling statistics:\n",
        " plt.figure(figsize = (10,8))\n",
        " plt.plot(timeseries, color = 'y', label = 'original')\n",
        " plt.plot(rolmean, color = 'r', label = 'rolling mean')\n",
        " plt.plot(rolstd, color = 'b', label = 'rolling std')\n",
        " plt.xlabel('Date')\n",
        " plt.legend()\n",
        " plt.title('Rolling Mean and Standard Deviation',  fontsize = 20)\n",
        " plt.show(block = False)\n",
        " \n",
        " print('Results of dickey fuller test')\n",
        " result = adfuller(timeseries, autolag = 'AIC')\n",
        " labels = ['ADF Test Statistic','p-value','#Lags Used','Number of Observations Used']\n",
        " for value,label in zip(result, labels):\n",
        "   print(label+' : '+str(value) )\n",
        " if result[1] <= 0.05:\n",
        "   print(\"Strong evidence against the null hypothesis(Ho), reject the null hypothesis. Data is stationary\")\n",
        " else:\n",
        "   print(\"Weak evidence against null hypothesis, time series is non-stationary \")\n",
        "test_stationarity(train['Close'])"
      ],
      "execution_count": null,
      "outputs": [
        {
          "output_type": "display_data",
          "data": {
            "image/png": "[encoded data removed]",
            "text/plain": [
              "<Figure size 720x576 with 1 Axes>"
            ]
          },
          "metadata": {
            "tags": [],
            "needs_background": "light"
          }
        },
        {
          "output_type": "stream",
          "text": [
            "Results of dickey fuller test\n",
            "ADF Test Statistic : -1.8735252065072987\n",
            "p-value : 0.3446163246726278\n",
            "#Lags Used : 9\n",
            "Number of Observations Used : 990\n",
            "Weak evidence against null hypothesis, time series is non-stationary \n"
          ],
          "name": "stdout"
        }
      ]
    },
    {
      "cell_type": "code",
      "metadata": {
        "colab": {
          "base_uri": "https://localhost:8080/",
          "height": 391
        },
        "id": "KmRFKDz0PMqM",
        "outputId": "d1af5cc1-dd8d-46a4-9630-c94eec9ce08e"
      },
      "source": [
        "train_log = np.log(train['Close']) \n",
        "test_log = np.log(test['Close'])\n",
        "\n",
        "mav = train_log.rolling(24).mean() \n",
        "plt.figure(figsize = (10,6))\n",
        "plt.plot(train_log) \n",
        "plt.plot(mav, color = 'red')"
      ],
      "execution_count": null,
      "outputs": [
        {
          "output_type": "execute_result",
          "data": {
            "text/plain": [
              "[<matplotlib.lines.Line2D at 0x7ff3089e8d50>]"
            ]
          },
          "metadata": {
            "tags": []
          },
          "execution_count": 11
        },
        {
          "output_type": "display_data",
          "data": {
            "image/png": "[encoded data removed]",
            "text/plain": [
              "<Figure size 720x432 with 1 Axes>"
            ]
          },
          "metadata": {
            "tags": [],
            "needs_background": "light"
          }
        }
      ]
    },
    {
      "cell_type": "code",
      "metadata": {
        "colab": {
          "base_uri": "https://localhost:8080/",
          "height": 620
        },
        "id": "mgmdnMrcPPIP",
        "outputId": "a0b8da61-2053-447d-e547-57245566c292"
      },
      "source": [
        "train_log.dropna(inplace = True)\n",
        "test_log.dropna(inplace = True)\n",
        "\n",
        "test_stationarity(train_log)"
      ],
      "execution_count": null,
      "outputs": [
        {
          "output_type": "display_data",
          "data": {
            "image/png": "[encoded data removed]",
            "text/plain": [
              "<Figure size 720x576 with 1 Axes>"
            ]
          },
          "metadata": {
            "tags": [],
            "needs_background": "light"
          }
        },
        {
          "output_type": "stream",
          "text": [
            "Results of dickey fuller test\n",
            "ADF Test Statistic : -1.8671689508635314\n",
            "p-value : 0.34765992827223324\n",
            "#Lags Used : 9\n",
            "Number of Observations Used : 990\n",
            "Weak evidence against null hypothesis, time series is non-stationary \n"
          ],
          "name": "stdout"
        }
      ]
    },
    {
      "cell_type": "code",
      "metadata": {
        "colab": {
          "base_uri": "https://localhost:8080/",
          "height": 620
        },
        "id": "J-wpRAynPUIy",
        "outputId": "f14931a3-1373-4f22-cad7-82196ddcc1b6"
      },
      "source": [
        "train_log_diff = train_log - mav\n",
        "train_log_diff.dropna(inplace = True)\n",
        "\n",
        "test_stationarity(train_log_diff)"
      ],
      "execution_count": null,
      "outputs": [
        {
          "output_type": "display_data",
          "data": {
            "image/png": "[encoded data removed]",
            "text/plain": [
              "<Figure size 720x576 with 1 Axes>"
            ]
          },
          "metadata": {
            "tags": [],
            "needs_background": "light"
          }
        },
        {
          "output_type": "stream",
          "text": [
            "Results of dickey fuller test\n",
            "ADF Test Statistic : -6.97219935256516\n",
            "p-value : 8.607477708608758e-10\n",
            "#Lags Used : 9\n",
            "Number of Observations Used : 967\n",
            "Strong evidence against the null hypothesis(Ho), reject the null hypothesis. Data is stationary\n"
          ],
          "name": "stdout"
        }
      ]
    },
    {
      "cell_type": "code",
      "metadata": {
        "colab": {
          "base_uri": "https://localhost:8080/"
        },
        "id": "vMLgzTluPXDl",
        "outputId": "8a3b3e49-9601-4f8e-9369-7d47fd1055b1"
      },
      "source": [
        "#Using auto arima to make predictions using log data\n",
        "from pmdarima import auto_arima\n",
        "model = auto_arima(train_log, trace = True, error_action = 'ignore', suppress_warnings = True)\n",
        "model.fit(train_log)\n",
        "predictions = model.predict(n_periods = len(test))\n",
        "predictions = pd.DataFrame(predictions,index = test_log.index,columns=['Prediction'])"
      ],
      "execution_count": null,
      "outputs": [
        {
          "output_type": "stream",
          "text": [
            "Performing stepwise search to minimize aic\n",
            " ARIMA(2,1,2)(0,0,0)[0] intercept   : AIC=inf, Time=1.32 sec\n",
            " ARIMA(0,1,0)(0,0,0)[0] intercept   : AIC=-5096.664, Time=0.14 sec\n",
            " ARIMA(1,1,0)(0,0,0)[0] intercept   : AIC=-5099.231, Time=0.12 sec\n",
            " ARIMA(0,1,1)(0,0,0)[0] intercept   : AIC=-5099.479, Time=0.14 sec\n",
            " ARIMA(0,1,0)(0,0,0)[0]             : AIC=-5098.497, Time=0.10 sec\n",
            " ARIMA(1,1,1)(0,0,0)[0] intercept   : AIC=-5098.059, Time=0.28 sec\n",
            " ARIMA(0,1,2)(0,0,0)[0] intercept   : AIC=-5098.045, Time=0.25 sec\n",
            " ARIMA(1,1,2)(0,0,0)[0] intercept   : AIC=-5096.154, Time=0.20 sec\n",
            " ARIMA(0,1,1)(0,0,0)[0]             : AIC=-5101.333, Time=0.14 sec\n",
            " ARIMA(1,1,1)(0,0,0)[0]             : AIC=-5099.908, Time=0.21 sec\n",
            " ARIMA(0,1,2)(0,0,0)[0]             : AIC=-5099.892, Time=0.19 sec\n",
            " ARIMA(1,1,0)(0,0,0)[0]             : AIC=-5101.085, Time=0.07 sec\n",
            " ARIMA(1,1,2)(0,0,0)[0]             : AIC=-5098.003, Time=0.14 sec\n",
            "\n",
            "Best model:  ARIMA(0,1,1)(0,0,0)[0]          \n",
            "Total fit time: 3.318 seconds\n"
          ],
          "name": "stdout"
        }
      ]
    },
    {
      "cell_type": "code",
      "metadata": {
        "colab": {
          "base_uri": "https://localhost:8080/",
          "height": 312
        },
        "id": "0vkMHjHEPZrM",
        "outputId": "19951930-5bc3-4b7f-df2a-9199debf2a3e"
      },
      "source": [
        "plt.plot(train_log, label='Train')\n",
        "plt.plot(test_log, label='Test')\n",
        "plt.plot(predictions, label='Prediction')\n",
        "plt.title('BSESN Stock Price Prediction')\n",
        "plt.xlabel('Time')\n",
        "plt.ylabel('Actual Stock Price')"
      ],
      "execution_count": null,
      "outputs": [
        {
          "output_type": "execute_result",
          "data": {
            "text/plain": [
              "Text(0, 0.5, 'Actual Stock Price')"
            ]
          },
          "metadata": {
            "tags": []
          },
          "execution_count": 15
        },
        {
          "output_type": "display_data",
          "data": {
            "image/png": "[encoded data removed]",
            "text/plain": [
              "<Figure size 432x288 with 1 Axes>"
            ]
          },
          "metadata": {
            "tags": [],
            "needs_background": "light"
          }
        }
      ]
    },
    {
      "cell_type": "code",
      "metadata": {
        "colab": {
          "base_uri": "https://localhost:8080/"
        },
        "id": "gFxUUM6CPdID",
        "outputId": "3aabaf5a-9ea6-4f04-83a6-d84f9b292723"
      },
      "source": [
        "#Calculating error\n",
        "rms = np.sqrt(mean_squared_error(test_log,predictions))\n",
        "print(\"RMSE : \", rms)"
      ],
      "execution_count": null,
      "outputs": [
        {
          "output_type": "stream",
          "text": [
            "RMSE :  1.660644287415502\n"
          ],
          "name": "stdout"
        }
      ]
    },
    {
      "cell_type": "markdown",
      "metadata": {
        "id": "E_hVNw06Pq7Z"
      },
      "source": [
        "###**TEXTUAL ANALYSIS**"
      ]
    },
    {
      "cell_type": "code",
      "metadata": {
        "colab": {
          "base_uri": "https://localhost:8080/",
          "height": 419
        },
        "id": "6l9_3eI9PhLW",
        "outputId": "2c530502-4018-4af7-c152-d4646b2c74c3"
      },
      "source": [
        "cols = ['Date','Category','News']\n",
        "df_news = pd.read_csv('/content/sample_data/india-news-headlines.csv', names = cols)\n",
        "df_news"
      ],
      "execution_count": null,
      "outputs": [
        {
          "output_type": "execute_result",
          "data": {
            "text/html": [
              "<div>\n",
              "<style scoped>\n",
              "    .dataframe tbody tr th:only-of-type {\n",
              "        vertical-align: middle;\n",
              "    }\n",
              "\n",
              "    .dataframe tbody tr th {\n",
              "        vertical-align: top;\n",
              "    }\n",
              "\n",
              "    .dataframe thead th {\n",
              "        text-align: right;\n",
              "    }\n",
              "</style>\n",
              "<table border=\"1\" class=\"dataframe\">\n",
              "  <thead>\n",
              "    <tr style=\"text-align: right;\">\n",
              "      <th></th>\n",
              "      <th>Date</th>\n",
              "      <th>Category</th>\n",
              "      <th>News</th>\n",
              "    </tr>\n",
              "  </thead>\n",
              "  <tbody>\n",
              "    <tr>\n",
              "      <th>0</th>\n",
              "      <td>publish_date</td>\n",
              "      <td>headline_category</td>\n",
              "      <td>headline_text</td>\n",
              "    </tr>\n",
              "    <tr>\n",
              "      <th>1</th>\n",
              "      <td>20010102</td>\n",
              "      <td>unknown</td>\n",
              "      <td>Status quo will not be disturbed at Ayodhya; s...</td>\n",
              "    </tr>\n",
              "    <tr>\n",
              "      <th>2</th>\n",
              "      <td>20010102</td>\n",
              "      <td>unknown</td>\n",
              "      <td>Fissures in Hurriyat over Pak visit</td>\n",
              "    </tr>\n",
              "    <tr>\n",
              "      <th>3</th>\n",
              "      <td>20010102</td>\n",
              "      <td>unknown</td>\n",
              "      <td>America's unwanted heading for India?</td>\n",
              "    </tr>\n",
              "    <tr>\n",
              "      <th>4</th>\n",
              "      <td>20010102</td>\n",
              "      <td>unknown</td>\n",
              "      <td>For bigwigs; it is destination Goa</td>\n",
              "    </tr>\n",
              "    <tr>\n",
              "      <th>...</th>\n",
              "      <td>...</td>\n",
              "      <td>...</td>\n",
              "      <td>...</td>\n",
              "    </tr>\n",
              "    <tr>\n",
              "      <th>1048571</th>\n",
              "      <td>20110123</td>\n",
              "      <td>city.lucknow</td>\n",
              "      <td>Police recover 100 'improper' SIMs</td>\n",
              "    </tr>\n",
              "    <tr>\n",
              "      <th>1048572</th>\n",
              "      <td>20110123</td>\n",
              "      <td>city.lucknow</td>\n",
              "      <td>5 new KGBVs for Lucknow</td>\n",
              "    </tr>\n",
              "    <tr>\n",
              "      <th>1048573</th>\n",
              "      <td>20110123</td>\n",
              "      <td>india</td>\n",
              "      <td>70% can't afford sanitary napkins; reveals study</td>\n",
              "    </tr>\n",
              "    <tr>\n",
              "      <th>1048574</th>\n",
              "      <td>20110123</td>\n",
              "      <td>city.lucknow</td>\n",
              "      <td>Cops ask internet cafe; PCO owners to be more ...</td>\n",
              "    </tr>\n",
              "    <tr>\n",
              "      <th>1048575</th>\n",
              "      <td>20110123</td>\n",
              "      <td>home.sunday-times.deep-focus</td>\n",
              "      <td>Police to peon: Crowd control a joint venture</td>\n",
              "    </tr>\n",
              "  </tbody>\n",
              "</table>\n",
              "<p>1048576 rows × 3 columns</p>\n",
              "</div>"
            ],
            "text/plain": [
              "                 Date  ...                                               News\n",
              "0        publish_date  ...                                      headline_text\n",
              "1            20010102  ...  Status quo will not be disturbed at Ayodhya; s...\n",
              "2            20010102  ...                Fissures in Hurriyat over Pak visit\n",
              "3            20010102  ...              America's unwanted heading for India?\n",
              "4            20010102  ...                 For bigwigs; it is destination Goa\n",
              "...               ...  ...                                                ...\n",
              "1048571      20110123  ...                 Police recover 100 'improper' SIMs\n",
              "1048572      20110123  ...                            5 new KGBVs for Lucknow\n",
              "1048573      20110123  ...   70% can't afford sanitary napkins; reveals study\n",
              "1048574      20110123  ...  Cops ask internet cafe; PCO owners to be more ...\n",
              "1048575      20110123  ...      Police to peon: Crowd control a joint venture\n",
              "\n",
              "[1048576 rows x 3 columns]"
            ]
          },
          "metadata": {
            "tags": []
          },
          "execution_count": 17
        }
      ]
    },
    {
      "cell_type": "code",
      "metadata": {
        "colab": {
          "base_uri": "https://localhost:8080/"
        },
        "id": "D0lI3jEjPwZc",
        "outputId": "24ec803d-faaf-4803-9e08-363848f09f1d"
      },
      "source": [
        "df_news.drop(0, inplace=True)\n",
        "df_news.drop('Category', axis = 1, inplace=True)\n",
        "df_news.info()"
      ],
      "execution_count": null,
      "outputs": [
        {
          "output_type": "stream",
          "text": [
            "<class 'pandas.core.frame.DataFrame'>\n",
            "Int64Index: 1048575 entries, 1 to 1048575\n",
            "Data columns (total 2 columns):\n",
            " #   Column  Non-Null Count    Dtype \n",
            "---  ------  --------------    ----- \n",
            " 0   Date    1048575 non-null  object\n",
            " 1   News    1048575 non-null  object\n",
            "dtypes: object(2)\n",
            "memory usage: 24.0+ MB\n"
          ],
          "name": "stdout"
        }
      ]
    },
    {
      "cell_type": "code",
      "metadata": {
        "colab": {
          "base_uri": "https://localhost:8080/",
          "height": 419
        },
        "id": "hH1Ac51oThgP",
        "outputId": "59464ea6-97ff-4209-f952-ac35aaa183ae"
      },
      "source": [
        "#Converting data type of Date column \n",
        "df_news['Date'] = pd.to_datetime(df_news['Date'],format= '%Y%m%d')\n",
        "df_news"
      ],
      "execution_count": null,
      "outputs": [
        {
          "output_type": "execute_result",
          "data": {
            "text/html": [
              "<div>\n",
              "<style scoped>\n",
              "    .dataframe tbody tr th:only-of-type {\n",
              "        vertical-align: middle;\n",
              "    }\n",
              "\n",
              "    .dataframe tbody tr th {\n",
              "        vertical-align: top;\n",
              "    }\n",
              "\n",
              "    .dataframe thead th {\n",
              "        text-align: right;\n",
              "    }\n",
              "</style>\n",
              "<table border=\"1\" class=\"dataframe\">\n",
              "  <thead>\n",
              "    <tr style=\"text-align: right;\">\n",
              "      <th></th>\n",
              "      <th>Date</th>\n",
              "      <th>News</th>\n",
              "    </tr>\n",
              "  </thead>\n",
              "  <tbody>\n",
              "    <tr>\n",
              "      <th>1</th>\n",
              "      <td>2001-01-02</td>\n",
              "      <td>Status quo will not be disturbed at Ayodhya; s...</td>\n",
              "    </tr>\n",
              "    <tr>\n",
              "      <th>2</th>\n",
              "      <td>2001-01-02</td>\n",
              "      <td>Fissures in Hurriyat over Pak visit</td>\n",
              "    </tr>\n",
              "    <tr>\n",
              "      <th>3</th>\n",
              "      <td>2001-01-02</td>\n",
              "      <td>America's unwanted heading for India?</td>\n",
              "    </tr>\n",
              "    <tr>\n",
              "      <th>4</th>\n",
              "      <td>2001-01-02</td>\n",
              "      <td>For bigwigs; it is destination Goa</td>\n",
              "    </tr>\n",
              "    <tr>\n",
              "      <th>5</th>\n",
              "      <td>2001-01-02</td>\n",
              "      <td>Extra buses to clear tourist traffic</td>\n",
              "    </tr>\n",
              "    <tr>\n",
              "      <th>...</th>\n",
              "      <td>...</td>\n",
              "      <td>...</td>\n",
              "    </tr>\n",
              "    <tr>\n",
              "      <th>1048571</th>\n",
              "      <td>2011-01-23</td>\n",
              "      <td>Police recover 100 'improper' SIMs</td>\n",
              "    </tr>\n",
              "    <tr>\n",
              "      <th>1048572</th>\n",
              "      <td>2011-01-23</td>\n",
              "      <td>5 new KGBVs for Lucknow</td>\n",
              "    </tr>\n",
              "    <tr>\n",
              "      <th>1048573</th>\n",
              "      <td>2011-01-23</td>\n",
              "      <td>70% can't afford sanitary napkins; reveals study</td>\n",
              "    </tr>\n",
              "    <tr>\n",
              "      <th>1048574</th>\n",
              "      <td>2011-01-23</td>\n",
              "      <td>Cops ask internet cafe; PCO owners to be more ...</td>\n",
              "    </tr>\n",
              "    <tr>\n",
              "      <th>1048575</th>\n",
              "      <td>2011-01-23</td>\n",
              "      <td>Police to peon: Crowd control a joint venture</td>\n",
              "    </tr>\n",
              "  </tbody>\n",
              "</table>\n",
              "<p>1048575 rows × 2 columns</p>\n",
              "</div>"
            ],
            "text/plain": [
              "              Date                                               News\n",
              "1       2001-01-02  Status quo will not be disturbed at Ayodhya; s...\n",
              "2       2001-01-02                Fissures in Hurriyat over Pak visit\n",
              "3       2001-01-02              America's unwanted heading for India?\n",
              "4       2001-01-02                 For bigwigs; it is destination Goa\n",
              "5       2001-01-02               Extra buses to clear tourist traffic\n",
              "...            ...                                                ...\n",
              "1048571 2011-01-23                 Police recover 100 'improper' SIMs\n",
              "1048572 2011-01-23                            5 new KGBVs for Lucknow\n",
              "1048573 2011-01-23   70% can't afford sanitary napkins; reveals study\n",
              "1048574 2011-01-23  Cops ask internet cafe; PCO owners to be more ...\n",
              "1048575 2011-01-23      Police to peon: Crowd control a joint venture\n",
              "\n",
              "[1048575 rows x 2 columns]"
            ]
          },
          "metadata": {
            "tags": []
          },
          "execution_count": 20
        }
      ]
    },
    {
      "cell_type": "code",
      "metadata": {
        "colab": {
          "base_uri": "https://localhost:8080/",
          "height": 419
        },
        "id": "TKVUYiDHTjND",
        "outputId": "81dd9d73-621e-466d-8692-8ff7a611e7c4"
      },
      "source": [
        "#Grouping the headlines for each day\n",
        "df_news['News'] = df_news.groupby(['Date']).transform(lambda x : ' '.join(x)) \n",
        "df_news = df_news.drop_duplicates() \n",
        "df_news.reset_index(inplace = True, drop = True)\n",
        "df_news"
      ],
      "execution_count": null,
      "outputs": [
        {
          "output_type": "execute_result",
          "data": {
            "text/html": [
              "<div>\n",
              "<style scoped>\n",
              "    .dataframe tbody tr th:only-of-type {\n",
              "        vertical-align: middle;\n",
              "    }\n",
              "\n",
              "    .dataframe tbody tr th {\n",
              "        vertical-align: top;\n",
              "    }\n",
              "\n",
              "    .dataframe thead th {\n",
              "        text-align: right;\n",
              "    }\n",
              "</style>\n",
              "<table border=\"1\" class=\"dataframe\">\n",
              "  <thead>\n",
              "    <tr style=\"text-align: right;\">\n",
              "      <th></th>\n",
              "      <th>Date</th>\n",
              "      <th>News</th>\n",
              "    </tr>\n",
              "  </thead>\n",
              "  <tbody>\n",
              "    <tr>\n",
              "      <th>0</th>\n",
              "      <td>2001-01-02</td>\n",
              "      <td>Status quo will not be disturbed at Ayodhya; s...</td>\n",
              "    </tr>\n",
              "    <tr>\n",
              "      <th>1</th>\n",
              "      <td>2001-01-03</td>\n",
              "      <td>Powerless north India gropes in the dark Think...</td>\n",
              "    </tr>\n",
              "    <tr>\n",
              "      <th>2</th>\n",
              "      <td>2001-01-04</td>\n",
              "      <td>The string that pulled Stephen Hawking to Indi...</td>\n",
              "    </tr>\n",
              "    <tr>\n",
              "      <th>3</th>\n",
              "      <td>2001-01-05</td>\n",
              "      <td>Light combat craft takes India into club class...</td>\n",
              "    </tr>\n",
              "    <tr>\n",
              "      <th>4</th>\n",
              "      <td>2001-01-06</td>\n",
              "      <td>Light combat craft takes India into club class...</td>\n",
              "    </tr>\n",
              "    <tr>\n",
              "      <th>...</th>\n",
              "      <td>...</td>\n",
              "      <td>...</td>\n",
              "    </tr>\n",
              "    <tr>\n",
              "      <th>3627</th>\n",
              "      <td>2011-01-19</td>\n",
              "      <td>My ex doesn't want me: Pratik Saali is not a g...</td>\n",
              "    </tr>\n",
              "    <tr>\n",
              "      <th>3628</th>\n",
              "      <td>2011-01-20</td>\n",
              "      <td>Neetu Chandra denies going panty-less! Aishwar...</td>\n",
              "    </tr>\n",
              "    <tr>\n",
              "      <th>3629</th>\n",
              "      <td>2011-01-21</td>\n",
              "      <td>Giving the kids a dressing up AK Hangal's ill ...</td>\n",
              "    </tr>\n",
              "    <tr>\n",
              "      <th>3630</th>\n",
              "      <td>2011-01-22</td>\n",
              "      <td>DTE seeks report from tech institutes Corporat...</td>\n",
              "    </tr>\n",
              "    <tr>\n",
              "      <th>3631</th>\n",
              "      <td>2011-01-23</td>\n",
              "      <td>Delhi Daredevils Mumbai Indians Chennai Super ...</td>\n",
              "    </tr>\n",
              "  </tbody>\n",
              "</table>\n",
              "<p>3632 rows × 2 columns</p>\n",
              "</div>"
            ],
            "text/plain": [
              "           Date                                               News\n",
              "0    2001-01-02  Status quo will not be disturbed at Ayodhya; s...\n",
              "1    2001-01-03  Powerless north India gropes in the dark Think...\n",
              "2    2001-01-04  The string that pulled Stephen Hawking to Indi...\n",
              "3    2001-01-05  Light combat craft takes India into club class...\n",
              "4    2001-01-06  Light combat craft takes India into club class...\n",
              "...         ...                                                ...\n",
              "3627 2011-01-19  My ex doesn't want me: Pratik Saali is not a g...\n",
              "3628 2011-01-20  Neetu Chandra denies going panty-less! Aishwar...\n",
              "3629 2011-01-21  Giving the kids a dressing up AK Hangal's ill ...\n",
              "3630 2011-01-22  DTE seeks report from tech institutes Corporat...\n",
              "3631 2011-01-23  Delhi Daredevils Mumbai Indians Chennai Super ...\n",
              "\n",
              "[3632 rows x 2 columns]"
            ]
          },
          "metadata": {
            "tags": []
          },
          "execution_count": 21
        }
      ]
    },
    {
      "cell_type": "code",
      "metadata": {
        "colab": {
          "base_uri": "https://localhost:8080/"
        },
        "id": "x8Dc4nSQTo6b",
        "outputId": "1dc8ae8c-a6bc-4757-d0d2-c05c2015ed1c"
      },
      "source": [
        "df_news['News']"
      ],
      "execution_count": null,
      "outputs": [
        {
          "output_type": "execute_result",
          "data": {
            "text/plain": [
              "0       Status quo will not be disturbed at Ayodhya; s...\n",
              "1       Powerless north India gropes in the dark Think...\n",
              "2       The string that pulled Stephen Hawking to Indi...\n",
              "3       Light combat craft takes India into club class...\n",
              "4       Light combat craft takes India into club class...\n",
              "                              ...                        \n",
              "3627    My ex doesn't want me: Pratik Saali is not a g...\n",
              "3628    Neetu Chandra denies going panty-less! Aishwar...\n",
              "3629    Giving the kids a dressing up AK Hangal's ill ...\n",
              "3630    DTE seeks report from tech institutes Corporat...\n",
              "3631    Delhi Daredevils Mumbai Indians Chennai Super ...\n",
              "Name: News, Length: 3632, dtype: object"
            ]
          },
          "metadata": {
            "tags": []
          },
          "execution_count": 22
        }
      ]
    },
    {
      "cell_type": "code",
      "metadata": {
        "id": "kfXHrd4CTvod"
      },
      "source": [
        "#Cleaning headlines\n",
        "c = []\n",
        "for i in range(0,len(df_news['News'])):\n",
        "    news = re.sub('[^a-zA-Z]',' ',df_news['News'][i])\n",
        "    news = news.lower()\n",
        "    news = news.split()\n",
        "    ps = PorterStemmer()\n",
        "    news = [ps.stem(word) for word in news if not word in set(stopwords.words('english'))]\n",
        "    news=' '.join(news)\n",
        "    c.append(news)"
      ],
      "execution_count": null,
      "outputs": []
    },
    {
      "cell_type": "code",
      "metadata": {
        "colab": {
          "base_uri": "https://localhost:8080/",
          "height": 419
        },
        "id": "9Oi315YsTyi1",
        "outputId": "7415fd46-a55d-498b-fe9e-2bde90db380a"
      },
      "source": [
        "df_news['News'] = pd.Series(c)\n",
        "df_news"
      ],
      "execution_count": null,
      "outputs": [
        {
          "output_type": "execute_result",
          "data": {
            "text/html": [
              "<div>\n",
              "<style scoped>\n",
              "    .dataframe tbody tr th:only-of-type {\n",
              "        vertical-align: middle;\n",
              "    }\n",
              "\n",
              "    .dataframe tbody tr th {\n",
              "        vertical-align: top;\n",
              "    }\n",
              "\n",
              "    .dataframe thead th {\n",
              "        text-align: right;\n",
              "    }\n",
              "</style>\n",
              "<table border=\"1\" class=\"dataframe\">\n",
              "  <thead>\n",
              "    <tr style=\"text-align: right;\">\n",
              "      <th></th>\n",
              "      <th>Date</th>\n",
              "      <th>News</th>\n",
              "    </tr>\n",
              "  </thead>\n",
              "  <tbody>\n",
              "    <tr>\n",
              "      <th>0</th>\n",
              "      <td>2001-01-02</td>\n",
              "      <td>statu quo disturb ayodhya say vajpaye fissur h...</td>\n",
              "    </tr>\n",
              "    <tr>\n",
              "      <th>1</th>\n",
              "      <td>2001-01-03</td>\n",
              "      <td>powerless north india grope dark think laxman ...</td>\n",
              "    </tr>\n",
              "    <tr>\n",
              "      <th>2</th>\n",
              "      <td>2001-01-04</td>\n",
              "      <td>string pull stephen hawk india vajpaye give bi...</td>\n",
              "    </tr>\n",
              "    <tr>\n",
              "      <th>3</th>\n",
              "      <td>2001-01-05</td>\n",
              "      <td>light combat craft take india club class hawk ...</td>\n",
              "    </tr>\n",
              "    <tr>\n",
              "      <th>4</th>\n",
              "      <td>2001-01-06</td>\n",
              "      <td>light combat craft take india club class hawk ...</td>\n",
              "    </tr>\n",
              "    <tr>\n",
              "      <th>...</th>\n",
              "      <td>...</td>\n",
              "      <td>...</td>\n",
              "    </tr>\n",
              "    <tr>\n",
              "      <th>3627</th>\n",
              "      <td>2011-01-19</td>\n",
              "      <td>ex want pratik saali gaali sudhir tell sharmil...</td>\n",
              "    </tr>\n",
              "    <tr>\n",
              "      <th>3628</th>\n",
              "      <td>2011-01-20</td>\n",
              "      <td>neetu chandra deni go panti less aishwarya aam...</td>\n",
              "    </tr>\n",
              "    <tr>\n",
              "      <th>3629</th>\n",
              "      <td>2011-01-21</td>\n",
              "      <td>give kid dress ak hangal ill broke dhobi ghat ...</td>\n",
              "    </tr>\n",
              "    <tr>\n",
              "      <th>3630</th>\n",
              "      <td>2011-01-22</td>\n",
              "      <td>dte seek report tech institut corpor oppos kot...</td>\n",
              "    </tr>\n",
              "    <tr>\n",
              "      <th>3631</th>\n",
              "      <td>2011-01-23</td>\n",
              "      <td>delhi daredevil mumbai indian chennai super ki...</td>\n",
              "    </tr>\n",
              "  </tbody>\n",
              "</table>\n",
              "<p>3632 rows × 2 columns</p>\n",
              "</div>"
            ],
            "text/plain": [
              "           Date                                               News\n",
              "0    2001-01-02  statu quo disturb ayodhya say vajpaye fissur h...\n",
              "1    2001-01-03  powerless north india grope dark think laxman ...\n",
              "2    2001-01-04  string pull stephen hawk india vajpaye give bi...\n",
              "3    2001-01-05  light combat craft take india club class hawk ...\n",
              "4    2001-01-06  light combat craft take india club class hawk ...\n",
              "...         ...                                                ...\n",
              "3627 2011-01-19  ex want pratik saali gaali sudhir tell sharmil...\n",
              "3628 2011-01-20  neetu chandra deni go panti less aishwarya aam...\n",
              "3629 2011-01-21  give kid dress ak hangal ill broke dhobi ghat ...\n",
              "3630 2011-01-22  dte seek report tech institut corpor oppos kot...\n",
              "3631 2011-01-23  delhi daredevil mumbai indian chennai super ki...\n",
              "\n",
              "[3632 rows x 2 columns]"
            ]
          },
          "metadata": {
            "tags": []
          },
          "execution_count": 26
        }
      ]
    },
    {
      "cell_type": "code",
      "metadata": {
        "id": "7zh5eyL5XKsh"
      },
      "source": [
        "#Functions to get the subjectivity and polarity\n",
        "def getSubjectivity(text):\n",
        "  return TextBlob(text).sentiment.subjectivity\n",
        "\n",
        "def getPolarity(text):\n",
        "  return  TextBlob(text).sentiment.polarity"
      ],
      "execution_count": null,
      "outputs": []
    },
    {
      "cell_type": "code",
      "metadata": {
        "colab": {
          "base_uri": "https://localhost:8080/",
          "height": 419
        },
        "id": "C1QOO_-ZXN8K",
        "outputId": "94c04e78-3608-4aec-fac1-3f9b93d23011"
      },
      "source": [
        "#Adding subjectivity and polarity columns\n",
        "df_news['Subjectivity'] = df_news['News'].apply(getSubjectivity)\n",
        "df_news['Polarity'] = df_news['News'].apply(getPolarity)\n",
        "df_news"
      ],
      "execution_count": null,
      "outputs": [
        {
          "output_type": "execute_result",
          "data": {
            "text/html": [
              "<div>\n",
              "<style scoped>\n",
              "    .dataframe tbody tr th:only-of-type {\n",
              "        vertical-align: middle;\n",
              "    }\n",
              "\n",
              "    .dataframe tbody tr th {\n",
              "        vertical-align: top;\n",
              "    }\n",
              "\n",
              "    .dataframe thead th {\n",
              "        text-align: right;\n",
              "    }\n",
              "</style>\n",
              "<table border=\"1\" class=\"dataframe\">\n",
              "  <thead>\n",
              "    <tr style=\"text-align: right;\">\n",
              "      <th></th>\n",
              "      <th>Date</th>\n",
              "      <th>News</th>\n",
              "      <th>Subjectivity</th>\n",
              "      <th>Polarity</th>\n",
              "    </tr>\n",
              "  </thead>\n",
              "  <tbody>\n",
              "    <tr>\n",
              "      <th>0</th>\n",
              "      <td>2001-01-02</td>\n",
              "      <td>statu quo disturb ayodhya say vajpaye fissur h...</td>\n",
              "      <td>0.298148</td>\n",
              "      <td>0.099074</td>\n",
              "    </tr>\n",
              "    <tr>\n",
              "      <th>1</th>\n",
              "      <td>2001-01-03</td>\n",
              "      <td>powerless north india grope dark think laxman ...</td>\n",
              "      <td>0.429167</td>\n",
              "      <td>0.025000</td>\n",
              "    </tr>\n",
              "    <tr>\n",
              "      <th>2</th>\n",
              "      <td>2001-01-04</td>\n",
              "      <td>string pull stephen hawk india vajpaye give bi...</td>\n",
              "      <td>0.475140</td>\n",
              "      <td>0.032481</td>\n",
              "    </tr>\n",
              "    <tr>\n",
              "      <th>3</th>\n",
              "      <td>2001-01-05</td>\n",
              "      <td>light combat craft take india club class hawk ...</td>\n",
              "      <td>0.458412</td>\n",
              "      <td>0.296404</td>\n",
              "    </tr>\n",
              "    <tr>\n",
              "      <th>4</th>\n",
              "      <td>2001-01-06</td>\n",
              "      <td>light combat craft take india club class hawk ...</td>\n",
              "      <td>0.425758</td>\n",
              "      <td>0.389394</td>\n",
              "    </tr>\n",
              "    <tr>\n",
              "      <th>...</th>\n",
              "      <td>...</td>\n",
              "      <td>...</td>\n",
              "      <td>...</td>\n",
              "      <td>...</td>\n",
              "    </tr>\n",
              "    <tr>\n",
              "      <th>3627</th>\n",
              "      <td>2011-01-19</td>\n",
              "      <td>ex want pratik saali gaali sudhir tell sharmil...</td>\n",
              "      <td>0.350529</td>\n",
              "      <td>0.088851</td>\n",
              "    </tr>\n",
              "    <tr>\n",
              "      <th>3628</th>\n",
              "      <td>2011-01-20</td>\n",
              "      <td>neetu chandra deni go panti less aishwarya aam...</td>\n",
              "      <td>0.336776</td>\n",
              "      <td>0.063600</td>\n",
              "    </tr>\n",
              "    <tr>\n",
              "      <th>3629</th>\n",
              "      <td>2011-01-21</td>\n",
              "      <td>give kid dress ak hangal ill broke dhobi ghat ...</td>\n",
              "      <td>0.365818</td>\n",
              "      <td>0.023326</td>\n",
              "    </tr>\n",
              "    <tr>\n",
              "      <th>3630</th>\n",
              "      <td>2011-01-22</td>\n",
              "      <td>dte seek report tech institut corpor oppos kot...</td>\n",
              "      <td>0.389635</td>\n",
              "      <td>0.041496</td>\n",
              "    </tr>\n",
              "    <tr>\n",
              "      <th>3631</th>\n",
              "      <td>2011-01-23</td>\n",
              "      <td>delhi daredevil mumbai indian chennai super ki...</td>\n",
              "      <td>0.393968</td>\n",
              "      <td>0.095123</td>\n",
              "    </tr>\n",
              "  </tbody>\n",
              "</table>\n",
              "<p>3632 rows × 4 columns</p>\n",
              "</div>"
            ],
            "text/plain": [
              "           Date  ...  Polarity\n",
              "0    2001-01-02  ...  0.099074\n",
              "1    2001-01-03  ...  0.025000\n",
              "2    2001-01-04  ...  0.032481\n",
              "3    2001-01-05  ...  0.296404\n",
              "4    2001-01-06  ...  0.389394\n",
              "...         ...  ...       ...\n",
              "3627 2011-01-19  ...  0.088851\n",
              "3628 2011-01-20  ...  0.063600\n",
              "3629 2011-01-21  ...  0.023326\n",
              "3630 2011-01-22  ...  0.041496\n",
              "3631 2011-01-23  ...  0.095123\n",
              "\n",
              "[3632 rows x 4 columns]"
            ]
          },
          "metadata": {
            "tags": []
          },
          "execution_count": 28
        }
      ]
    },
    {
      "cell_type": "code",
      "metadata": {
        "colab": {
          "base_uri": "https://localhost:8080/",
          "height": 391
        },
        "id": "p3ejnIDNXP3h",
        "outputId": "9c147d1c-a23d-4b56-dde0-39ab53db17fc"
      },
      "source": [
        "plt.figure(figsize = (10,6))\n",
        "df_news['Polarity'].hist(color = 'purple')"
      ],
      "execution_count": null,
      "outputs": [
        {
          "output_type": "execute_result",
          "data": {
            "text/plain": [
              "<matplotlib.axes._subplots.AxesSubplot at 0x7ff2d3d53090>"
            ]
          },
          "metadata": {
            "tags": []
          },
          "execution_count": 29
        },
        {
          "output_type": "display_data",
          "data": {
            "image/png": "[encoded data removed]",
            "text/plain": [
              "<Figure size 720x432 with 1 Axes>"
            ]
          },
          "metadata": {
            "tags": [],
            "needs_background": "light"
          }
        }
      ]
    },
    {
      "cell_type": "code",
      "metadata": {
        "colab": {
          "base_uri": "https://localhost:8080/",
          "height": 391
        },
        "id": "tdW-QTWpXcaq",
        "outputId": "acfd8fd3-27e7-4c81-c555-c8feeab1d5f4"
      },
      "source": [
        "plt.figure(figsize = (10,6))\n",
        "df_news['Subjectivity'].hist(color = 'blue')"
      ],
      "execution_count": null,
      "outputs": [
        {
          "output_type": "execute_result",
          "data": {
            "text/plain": [
              "<matplotlib.axes._subplots.AxesSubplot at 0x7ff2d3b67bd0>"
            ]
          },
          "metadata": {
            "tags": []
          },
          "execution_count": 30
        },
        {
          "output_type": "display_data",
          "data": {
            "image/png": "[encoded data removed]",
            "text/plain": [
              "<Figure size 720x432 with 1 Axes>"
            ]
          },
          "metadata": {
            "tags": [],
            "needs_background": "light"
          }
        }
      ]
    },
    {
      "cell_type": "code",
      "metadata": {
        "colab": {
          "base_uri": "https://localhost:8080/",
          "height": 419
        },
        "id": "anSuLb9lXfCp",
        "outputId": "69287df3-3b45-498a-b7a3-68015097c822"
      },
      "source": [
        "#Adding sentiment score to df_news\n",
        "sia = SentimentIntensityAnalyzer()\n",
        "\n",
        "df_news['Compound'] = [sia.polarity_scores(v)['compound'] for v in df_news['News']]\n",
        "df_news['Negative'] = [sia.polarity_scores(v)['neg'] for v in df_news['News']]\n",
        "df_news['Neutral'] = [sia.polarity_scores(v)['neu'] for v in df_news['News']]\n",
        "df_news['Positive'] = [sia.polarity_scores(v)['pos'] for v in df_news['News']]\n",
        "df_news"
      ],
      "execution_count": null,
      "outputs": [
        {
          "output_type": "execute_result",
          "data": {
            "text/html": [
              "<div>\n",
              "<style scoped>\n",
              "    .dataframe tbody tr th:only-of-type {\n",
              "        vertical-align: middle;\n",
              "    }\n",
              "\n",
              "    .dataframe tbody tr th {\n",
              "        vertical-align: top;\n",
              "    }\n",
              "\n",
              "    .dataframe thead th {\n",
              "        text-align: right;\n",
              "    }\n",
              "</style>\n",
              "<table border=\"1\" class=\"dataframe\">\n",
              "  <thead>\n",
              "    <tr style=\"text-align: right;\">\n",
              "      <th></th>\n",
              "      <th>Date</th>\n",
              "      <th>News</th>\n",
              "      <th>Subjectivity</th>\n",
              "      <th>Polarity</th>\n",
              "      <th>Compound</th>\n",
              "      <th>Negative</th>\n",
              "      <th>Neutral</th>\n",
              "      <th>Positive</th>\n",
              "    </tr>\n",
              "  </thead>\n",
              "  <tbody>\n",
              "    <tr>\n",
              "      <th>0</th>\n",
              "      <td>2001-01-02</td>\n",
              "      <td>statu quo disturb ayodhya say vajpaye fissur h...</td>\n",
              "      <td>0.298148</td>\n",
              "      <td>0.099074</td>\n",
              "      <td>-0.8555</td>\n",
              "      <td>0.125</td>\n",
              "      <td>0.773</td>\n",
              "      <td>0.102</td>\n",
              "    </tr>\n",
              "    <tr>\n",
              "      <th>1</th>\n",
              "      <td>2001-01-03</td>\n",
              "      <td>powerless north india grope dark think laxman ...</td>\n",
              "      <td>0.429167</td>\n",
              "      <td>0.025000</td>\n",
              "      <td>-0.5994</td>\n",
              "      <td>0.132</td>\n",
              "      <td>0.755</td>\n",
              "      <td>0.113</td>\n",
              "    </tr>\n",
              "    <tr>\n",
              "      <th>2</th>\n",
              "      <td>2001-01-04</td>\n",
              "      <td>string pull stephen hawk india vajpaye give bi...</td>\n",
              "      <td>0.475140</td>\n",
              "      <td>0.032481</td>\n",
              "      <td>0.9169</td>\n",
              "      <td>0.099</td>\n",
              "      <td>0.791</td>\n",
              "      <td>0.110</td>\n",
              "    </tr>\n",
              "    <tr>\n",
              "      <th>3</th>\n",
              "      <td>2001-01-05</td>\n",
              "      <td>light combat craft take india club class hawk ...</td>\n",
              "      <td>0.458412</td>\n",
              "      <td>0.296404</td>\n",
              "      <td>-0.3612</td>\n",
              "      <td>0.171</td>\n",
              "      <td>0.659</td>\n",
              "      <td>0.170</td>\n",
              "    </tr>\n",
              "    <tr>\n",
              "      <th>4</th>\n",
              "      <td>2001-01-06</td>\n",
              "      <td>light combat craft take india club class hawk ...</td>\n",
              "      <td>0.425758</td>\n",
              "      <td>0.389394</td>\n",
              "      <td>-0.7579</td>\n",
              "      <td>0.207</td>\n",
              "      <td>0.649</td>\n",
              "      <td>0.144</td>\n",
              "    </tr>\n",
              "    <tr>\n",
              "      <th>...</th>\n",
              "      <td>...</td>\n",
              "      <td>...</td>\n",
              "      <td>...</td>\n",
              "      <td>...</td>\n",
              "      <td>...</td>\n",
              "      <td>...</td>\n",
              "      <td>...</td>\n",
              "      <td>...</td>\n",
              "    </tr>\n",
              "    <tr>\n",
              "      <th>3627</th>\n",
              "      <td>2011-01-19</td>\n",
              "      <td>ex want pratik saali gaali sudhir tell sharmil...</td>\n",
              "      <td>0.350529</td>\n",
              "      <td>0.088851</td>\n",
              "      <td>-0.9997</td>\n",
              "      <td>0.128</td>\n",
              "      <td>0.794</td>\n",
              "      <td>0.078</td>\n",
              "    </tr>\n",
              "    <tr>\n",
              "      <th>3628</th>\n",
              "      <td>2011-01-20</td>\n",
              "      <td>neetu chandra deni go panti less aishwarya aam...</td>\n",
              "      <td>0.336776</td>\n",
              "      <td>0.063600</td>\n",
              "      <td>-0.9996</td>\n",
              "      <td>0.129</td>\n",
              "      <td>0.785</td>\n",
              "      <td>0.086</td>\n",
              "    </tr>\n",
              "    <tr>\n",
              "      <th>3629</th>\n",
              "      <td>2011-01-21</td>\n",
              "      <td>give kid dress ak hangal ill broke dhobi ghat ...</td>\n",
              "      <td>0.365818</td>\n",
              "      <td>0.023326</td>\n",
              "      <td>-0.9999</td>\n",
              "      <td>0.151</td>\n",
              "      <td>0.768</td>\n",
              "      <td>0.081</td>\n",
              "    </tr>\n",
              "    <tr>\n",
              "      <th>3630</th>\n",
              "      <td>2011-01-22</td>\n",
              "      <td>dte seek report tech institut corpor oppos kot...</td>\n",
              "      <td>0.389635</td>\n",
              "      <td>0.041496</td>\n",
              "      <td>-0.9997</td>\n",
              "      <td>0.135</td>\n",
              "      <td>0.782</td>\n",
              "      <td>0.083</td>\n",
              "    </tr>\n",
              "    <tr>\n",
              "      <th>3631</th>\n",
              "      <td>2011-01-23</td>\n",
              "      <td>delhi daredevil mumbai indian chennai super ki...</td>\n",
              "      <td>0.393968</td>\n",
              "      <td>0.095123</td>\n",
              "      <td>-0.9989</td>\n",
              "      <td>0.154</td>\n",
              "      <td>0.749</td>\n",
              "      <td>0.097</td>\n",
              "    </tr>\n",
              "  </tbody>\n",
              "</table>\n",
              "<p>3632 rows × 8 columns</p>\n",
              "</div>"
            ],
            "text/plain": [
              "           Date  ... Positive\n",
              "0    2001-01-02  ...    0.102\n",
              "1    2001-01-03  ...    0.113\n",
              "2    2001-01-04  ...    0.110\n",
              "3    2001-01-05  ...    0.170\n",
              "4    2001-01-06  ...    0.144\n",
              "...         ...  ...      ...\n",
              "3627 2011-01-19  ...    0.078\n",
              "3628 2011-01-20  ...    0.086\n",
              "3629 2011-01-21  ...    0.081\n",
              "3630 2011-01-22  ...    0.083\n",
              "3631 2011-01-23  ...    0.097\n",
              "\n",
              "[3632 rows x 8 columns]"
            ]
          },
          "metadata": {
            "tags": []
          },
          "execution_count": 31
        }
      ]
    },
    {
      "cell_type": "code",
      "metadata": {
        "colab": {
          "base_uri": "https://localhost:8080/",
          "height": 1000
        },
        "id": "UDMuwiOTXhQZ",
        "outputId": "99587f78-c861-40a7-b66f-e5a8e63eb103"
      },
      "source": [
        "df_merge = pd.merge(df_prices, df_news, how='inner', on='Date')\n",
        "df_merge"
      ],
      "execution_count": null,
      "outputs": [
        {
          "output_type": "execute_result",
          "data": {
            "text/html": [
              "<div>\n",
              "<style scoped>\n",
              "    .dataframe tbody tr th:only-of-type {\n",
              "        vertical-align: middle;\n",
              "    }\n",
              "\n",
              "    .dataframe tbody tr th {\n",
              "        vertical-align: top;\n",
              "    }\n",
              "\n",
              "    .dataframe thead th {\n",
              "        text-align: right;\n",
              "    }\n",
              "</style>\n",
              "<table border=\"1\" class=\"dataframe\">\n",
              "  <thead>\n",
              "    <tr style=\"text-align: right;\">\n",
              "      <th></th>\n",
              "      <th>Date</th>\n",
              "      <th>Open</th>\n",
              "      <th>High</th>\n",
              "      <th>Low</th>\n",
              "      <th>Close</th>\n",
              "      <th>Adj Close</th>\n",
              "      <th>Volume</th>\n",
              "      <th>News</th>\n",
              "      <th>Subjectivity</th>\n",
              "      <th>Polarity</th>\n",
              "      <th>Compound</th>\n",
              "      <th>Negative</th>\n",
              "      <th>Neutral</th>\n",
              "      <th>Positive</th>\n",
              "    </tr>\n",
              "  </thead>\n",
              "  <tbody>\n",
              "    <tr>\n",
              "      <th>0</th>\n",
              "      <td>2001-01-02</td>\n",
              "      <td>3953.219971</td>\n",
              "      <td>4028.570068</td>\n",
              "      <td>3929.370117</td>\n",
              "      <td>4018.879883</td>\n",
              "      <td>4018.879883</td>\n",
              "      <td>0.0</td>\n",
              "      <td>statu quo disturb ayodhya say vajpaye fissur h...</td>\n",
              "      <td>0.298148</td>\n",
              "      <td>0.099074</td>\n",
              "      <td>-0.8555</td>\n",
              "      <td>0.125</td>\n",
              "      <td>0.773</td>\n",
              "      <td>0.102</td>\n",
              "    </tr>\n",
              "    <tr>\n",
              "      <th>1</th>\n",
              "      <td>2001-01-03</td>\n",
              "      <td>3977.580078</td>\n",
              "      <td>4067.659912</td>\n",
              "      <td>3977.580078</td>\n",
              "      <td>4060.020020</td>\n",
              "      <td>4060.020020</td>\n",
              "      <td>0.0</td>\n",
              "      <td>powerless north india grope dark think laxman ...</td>\n",
              "      <td>0.429167</td>\n",
              "      <td>0.025000</td>\n",
              "      <td>-0.5994</td>\n",
              "      <td>0.132</td>\n",
              "      <td>0.755</td>\n",
              "      <td>0.113</td>\n",
              "    </tr>\n",
              "    <tr>\n",
              "      <th>2</th>\n",
              "      <td>2001-01-04</td>\n",
              "      <td>4180.970215</td>\n",
              "      <td>4180.970215</td>\n",
              "      <td>4109.549805</td>\n",
              "      <td>4115.370117</td>\n",
              "      <td>4115.370117</td>\n",
              "      <td>0.0</td>\n",
              "      <td>string pull stephen hawk india vajpaye give bi...</td>\n",
              "      <td>0.475140</td>\n",
              "      <td>0.032481</td>\n",
              "      <td>0.9169</td>\n",
              "      <td>0.099</td>\n",
              "      <td>0.791</td>\n",
              "      <td>0.110</td>\n",
              "    </tr>\n",
              "    <tr>\n",
              "      <th>3</th>\n",
              "      <td>2001-01-05</td>\n",
              "      <td>4116.339844</td>\n",
              "      <td>4195.009766</td>\n",
              "      <td>4115.350098</td>\n",
              "      <td>4183.729980</td>\n",
              "      <td>4183.729980</td>\n",
              "      <td>0.0</td>\n",
              "      <td>light combat craft take india club class hawk ...</td>\n",
              "      <td>0.458412</td>\n",
              "      <td>0.296404</td>\n",
              "      <td>-0.3612</td>\n",
              "      <td>0.171</td>\n",
              "      <td>0.659</td>\n",
              "      <td>0.170</td>\n",
              "    </tr>\n",
              "    <tr>\n",
              "      <th>4</th>\n",
              "      <td>2001-01-08</td>\n",
              "      <td>4164.759766</td>\n",
              "      <td>4206.720215</td>\n",
              "      <td>4101.529785</td>\n",
              "      <td>4120.430176</td>\n",
              "      <td>4120.430176</td>\n",
              "      <td>0.0</td>\n",
              "      <td>sangh parivar babri panel ant frontrunn key us...</td>\n",
              "      <td>0.486204</td>\n",
              "      <td>-0.035142</td>\n",
              "      <td>-0.6808</td>\n",
              "      <td>0.100</td>\n",
              "      <td>0.816</td>\n",
              "      <td>0.084</td>\n",
              "    </tr>\n",
              "    <tr>\n",
              "      <th>...</th>\n",
              "      <td>...</td>\n",
              "      <td>...</td>\n",
              "      <td>...</td>\n",
              "      <td>...</td>\n",
              "      <td>...</td>\n",
              "      <td>...</td>\n",
              "      <td>...</td>\n",
              "      <td>...</td>\n",
              "      <td>...</td>\n",
              "      <td>...</td>\n",
              "      <td>...</td>\n",
              "      <td>...</td>\n",
              "      <td>...</td>\n",
              "      <td>...</td>\n",
              "    </tr>\n",
              "    <tr>\n",
              "      <th>2452</th>\n",
              "      <td>2011-01-17</td>\n",
              "      <td>18911.429688</td>\n",
              "      <td>19018.939453</td>\n",
              "      <td>18779.380859</td>\n",
              "      <td>18882.250000</td>\n",
              "      <td>18882.250000</td>\n",
              "      <td>17800.0</td>\n",
              "      <td>older brother dark sibl death thought superman...</td>\n",
              "      <td>0.364148</td>\n",
              "      <td>0.058013</td>\n",
              "      <td>-0.9997</td>\n",
              "      <td>0.146</td>\n",
              "      <td>0.756</td>\n",
              "      <td>0.098</td>\n",
              "    </tr>\n",
              "    <tr>\n",
              "      <th>2453</th>\n",
              "      <td>2011-01-18</td>\n",
              "      <td>18983.199219</td>\n",
              "      <td>19120.619141</td>\n",
              "      <td>18933.470703</td>\n",
              "      <td>19092.050781</td>\n",
              "      <td>19092.050781</td>\n",
              "      <td>14400.0</td>\n",
              "      <td>top sex mistak men make alcohol pack salman sr...</td>\n",
              "      <td>0.358898</td>\n",
              "      <td>0.086609</td>\n",
              "      <td>-0.9998</td>\n",
              "      <td>0.152</td>\n",
              "      <td>0.770</td>\n",
              "      <td>0.078</td>\n",
              "    </tr>\n",
              "    <tr>\n",
              "      <th>2454</th>\n",
              "      <td>2011-01-19</td>\n",
              "      <td>19153.310547</td>\n",
              "      <td>19167.060547</td>\n",
              "      <td>18898.560547</td>\n",
              "      <td>18978.320313</td>\n",
              "      <td>18978.320313</td>\n",
              "      <td>16200.0</td>\n",
              "      <td>ex want pratik saali gaali sudhir tell sharmil...</td>\n",
              "      <td>0.350529</td>\n",
              "      <td>0.088851</td>\n",
              "      <td>-0.9997</td>\n",
              "      <td>0.128</td>\n",
              "      <td>0.794</td>\n",
              "      <td>0.078</td>\n",
              "    </tr>\n",
              "    <tr>\n",
              "      <th>2455</th>\n",
              "      <td>2011-01-20</td>\n",
              "      <td>18892.429688</td>\n",
              "      <td>19100.259766</td>\n",
              "      <td>18794.730469</td>\n",
              "      <td>19046.539063</td>\n",
              "      <td>19046.539063</td>\n",
              "      <td>12800.0</td>\n",
              "      <td>neetu chandra deni go panti less aishwarya aam...</td>\n",
              "      <td>0.336776</td>\n",
              "      <td>0.063600</td>\n",
              "      <td>-0.9996</td>\n",
              "      <td>0.129</td>\n",
              "      <td>0.785</td>\n",
              "      <td>0.086</td>\n",
              "    </tr>\n",
              "    <tr>\n",
              "      <th>2456</th>\n",
              "      <td>2011-01-21</td>\n",
              "      <td>19007.080078</td>\n",
              "      <td>19065.339844</td>\n",
              "      <td>18932.400391</td>\n",
              "      <td>19007.529297</td>\n",
              "      <td>19007.529297</td>\n",
              "      <td>11000.0</td>\n",
              "      <td>give kid dress ak hangal ill broke dhobi ghat ...</td>\n",
              "      <td>0.365818</td>\n",
              "      <td>0.023326</td>\n",
              "      <td>-0.9999</td>\n",
              "      <td>0.151</td>\n",
              "      <td>0.768</td>\n",
              "      <td>0.081</td>\n",
              "    </tr>\n",
              "  </tbody>\n",
              "</table>\n",
              "<p>2457 rows × 14 columns</p>\n",
              "</div>"
            ],
            "text/plain": [
              "           Date          Open          High  ...  Negative  Neutral  Positive\n",
              "0    2001-01-02   3953.219971   4028.570068  ...     0.125    0.773     0.102\n",
              "1    2001-01-03   3977.580078   4067.659912  ...     0.132    0.755     0.113\n",
              "2    2001-01-04   4180.970215   4180.970215  ...     0.099    0.791     0.110\n",
              "3    2001-01-05   4116.339844   4195.009766  ...     0.171    0.659     0.170\n",
              "4    2001-01-08   4164.759766   4206.720215  ...     0.100    0.816     0.084\n",
              "...         ...           ...           ...  ...       ...      ...       ...\n",
              "2452 2011-01-17  18911.429688  19018.939453  ...     0.146    0.756     0.098\n",
              "2453 2011-01-18  18983.199219  19120.619141  ...     0.152    0.770     0.078\n",
              "2454 2011-01-19  19153.310547  19167.060547  ...     0.128    0.794     0.078\n",
              "2455 2011-01-20  18892.429688  19100.259766  ...     0.129    0.785     0.086\n",
              "2456 2011-01-21  19007.080078  19065.339844  ...     0.151    0.768     0.081\n",
              "\n",
              "[2457 rows x 14 columns]"
            ]
          },
          "metadata": {
            "tags": []
          },
          "execution_count": 32
        }
      ]
    },
    {
      "cell_type": "code",
      "metadata": {
        "colab": {
          "base_uri": "https://localhost:8080/",
          "height": 419
        },
        "id": "CkyQZhF9ZOI1",
        "outputId": "1f202921-a8b5-4607-d800-19c1691f34d1"
      },
      "source": [
        "df = df_merge[['Close','Subjectivity', 'Polarity', 'Compound', 'Negative', 'Neutral' ,'Positive']]\n",
        "df"
      ],
      "execution_count": null,
      "outputs": [
        {
          "output_type": "execute_result",
          "data": {
            "text/html": [
              "<div>\n",
              "<style scoped>\n",
              "    .dataframe tbody tr th:only-of-type {\n",
              "        vertical-align: middle;\n",
              "    }\n",
              "\n",
              "    .dataframe tbody tr th {\n",
              "        vertical-align: top;\n",
              "    }\n",
              "\n",
              "    .dataframe thead th {\n",
              "        text-align: right;\n",
              "    }\n",
              "</style>\n",
              "<table border=\"1\" class=\"dataframe\">\n",
              "  <thead>\n",
              "    <tr style=\"text-align: right;\">\n",
              "      <th></th>\n",
              "      <th>Close</th>\n",
              "      <th>Subjectivity</th>\n",
              "      <th>Polarity</th>\n",
              "      <th>Compound</th>\n",
              "      <th>Negative</th>\n",
              "      <th>Neutral</th>\n",
              "      <th>Positive</th>\n",
              "    </tr>\n",
              "  </thead>\n",
              "  <tbody>\n",
              "    <tr>\n",
              "      <th>0</th>\n",
              "      <td>4018.879883</td>\n",
              "      <td>0.298148</td>\n",
              "      <td>0.099074</td>\n",
              "      <td>-0.8555</td>\n",
              "      <td>0.125</td>\n",
              "      <td>0.773</td>\n",
              "      <td>0.102</td>\n",
              "    </tr>\n",
              "    <tr>\n",
              "      <th>1</th>\n",
              "      <td>4060.020020</td>\n",
              "      <td>0.429167</td>\n",
              "      <td>0.025000</td>\n",
              "      <td>-0.5994</td>\n",
              "      <td>0.132</td>\n",
              "      <td>0.755</td>\n",
              "      <td>0.113</td>\n",
              "    </tr>\n",
              "    <tr>\n",
              "      <th>2</th>\n",
              "      <td>4115.370117</td>\n",
              "      <td>0.475140</td>\n",
              "      <td>0.032481</td>\n",
              "      <td>0.9169</td>\n",
              "      <td>0.099</td>\n",
              "      <td>0.791</td>\n",
              "      <td>0.110</td>\n",
              "    </tr>\n",
              "    <tr>\n",
              "      <th>3</th>\n",
              "      <td>4183.729980</td>\n",
              "      <td>0.458412</td>\n",
              "      <td>0.296404</td>\n",
              "      <td>-0.3612</td>\n",
              "      <td>0.171</td>\n",
              "      <td>0.659</td>\n",
              "      <td>0.170</td>\n",
              "    </tr>\n",
              "    <tr>\n",
              "      <th>4</th>\n",
              "      <td>4120.430176</td>\n",
              "      <td>0.486204</td>\n",
              "      <td>-0.035142</td>\n",
              "      <td>-0.6808</td>\n",
              "      <td>0.100</td>\n",
              "      <td>0.816</td>\n",
              "      <td>0.084</td>\n",
              "    </tr>\n",
              "    <tr>\n",
              "      <th>...</th>\n",
              "      <td>...</td>\n",
              "      <td>...</td>\n",
              "      <td>...</td>\n",
              "      <td>...</td>\n",
              "      <td>...</td>\n",
              "      <td>...</td>\n",
              "      <td>...</td>\n",
              "    </tr>\n",
              "    <tr>\n",
              "      <th>2452</th>\n",
              "      <td>18882.250000</td>\n",
              "      <td>0.364148</td>\n",
              "      <td>0.058013</td>\n",
              "      <td>-0.9997</td>\n",
              "      <td>0.146</td>\n",
              "      <td>0.756</td>\n",
              "      <td>0.098</td>\n",
              "    </tr>\n",
              "    <tr>\n",
              "      <th>2453</th>\n",
              "      <td>19092.050781</td>\n",
              "      <td>0.358898</td>\n",
              "      <td>0.086609</td>\n",
              "      <td>-0.9998</td>\n",
              "      <td>0.152</td>\n",
              "      <td>0.770</td>\n",
              "      <td>0.078</td>\n",
              "    </tr>\n",
              "    <tr>\n",
              "      <th>2454</th>\n",
              "      <td>18978.320313</td>\n",
              "      <td>0.350529</td>\n",
              "      <td>0.088851</td>\n",
              "      <td>-0.9997</td>\n",
              "      <td>0.128</td>\n",
              "      <td>0.794</td>\n",
              "      <td>0.078</td>\n",
              "    </tr>\n",
              "    <tr>\n",
              "      <th>2455</th>\n",
              "      <td>19046.539063</td>\n",
              "      <td>0.336776</td>\n",
              "      <td>0.063600</td>\n",
              "      <td>-0.9996</td>\n",
              "      <td>0.129</td>\n",
              "      <td>0.785</td>\n",
              "      <td>0.086</td>\n",
              "    </tr>\n",
              "    <tr>\n",
              "      <th>2456</th>\n",
              "      <td>19007.529297</td>\n",
              "      <td>0.365818</td>\n",
              "      <td>0.023326</td>\n",
              "      <td>-0.9999</td>\n",
              "      <td>0.151</td>\n",
              "      <td>0.768</td>\n",
              "      <td>0.081</td>\n",
              "    </tr>\n",
              "  </tbody>\n",
              "</table>\n",
              "<p>2457 rows × 7 columns</p>\n",
              "</div>"
            ],
            "text/plain": [
              "             Close  Subjectivity  Polarity  ...  Negative  Neutral  Positive\n",
              "0      4018.879883      0.298148  0.099074  ...     0.125    0.773     0.102\n",
              "1      4060.020020      0.429167  0.025000  ...     0.132    0.755     0.113\n",
              "2      4115.370117      0.475140  0.032481  ...     0.099    0.791     0.110\n",
              "3      4183.729980      0.458412  0.296404  ...     0.171    0.659     0.170\n",
              "4      4120.430176      0.486204 -0.035142  ...     0.100    0.816     0.084\n",
              "...            ...           ...       ...  ...       ...      ...       ...\n",
              "2452  18882.250000      0.364148  0.058013  ...     0.146    0.756     0.098\n",
              "2453  19092.050781      0.358898  0.086609  ...     0.152    0.770     0.078\n",
              "2454  18978.320313      0.350529  0.088851  ...     0.128    0.794     0.078\n",
              "2455  19046.539063      0.336776  0.063600  ...     0.129    0.785     0.086\n",
              "2456  19007.529297      0.365818  0.023326  ...     0.151    0.768     0.081\n",
              "\n",
              "[2457 rows x 7 columns]"
            ]
          },
          "metadata": {
            "tags": []
          },
          "execution_count": 33
        }
      ]
    },
    {
      "cell_type": "code",
      "metadata": {
        "colab": {
          "base_uri": "https://localhost:8080/",
          "height": 204
        },
        "id": "gRQAqyAqZT21",
        "outputId": "0e97f69f-ba79-410d-d8b9-a4bcd960e523"
      },
      "source": [
        "from sklearn.preprocessing import MinMaxScaler\n",
        "sc = MinMaxScaler()\n",
        "new_df = pd.DataFrame(sc.fit_transform(df))\n",
        "new_df.columns = df.columns\n",
        "new_df.index = df.index\n",
        "new_df.head()"
      ],
      "execution_count": null,
      "outputs": [
        {
          "output_type": "execute_result",
          "data": {
            "text/html": [
              "<div>\n",
              "<style scoped>\n",
              "    .dataframe tbody tr th:only-of-type {\n",
              "        vertical-align: middle;\n",
              "    }\n",
              "\n",
              "    .dataframe tbody tr th {\n",
              "        vertical-align: top;\n",
              "    }\n",
              "\n",
              "    .dataframe thead th {\n",
              "        text-align: right;\n",
              "    }\n",
              "</style>\n",
              "<table border=\"1\" class=\"dataframe\">\n",
              "  <thead>\n",
              "    <tr style=\"text-align: right;\">\n",
              "      <th></th>\n",
              "      <th>Close</th>\n",
              "      <th>Subjectivity</th>\n",
              "      <th>Polarity</th>\n",
              "      <th>Compound</th>\n",
              "      <th>Negative</th>\n",
              "      <th>Neutral</th>\n",
              "      <th>Positive</th>\n",
              "    </tr>\n",
              "  </thead>\n",
              "  <tbody>\n",
              "    <tr>\n",
              "      <th>0</th>\n",
              "      <td>0.077391</td>\n",
              "      <td>0.298148</td>\n",
              "      <td>0.404464</td>\n",
              "      <td>0.072207</td>\n",
              "      <td>0.382263</td>\n",
              "      <td>0.699735</td>\n",
              "      <td>0.134921</td>\n",
              "    </tr>\n",
              "    <tr>\n",
              "      <th>1</th>\n",
              "      <td>0.079635</td>\n",
              "      <td>0.429167</td>\n",
              "      <td>0.287402</td>\n",
              "      <td>0.200270</td>\n",
              "      <td>0.403670</td>\n",
              "      <td>0.675926</td>\n",
              "      <td>0.149471</td>\n",
              "    </tr>\n",
              "    <tr>\n",
              "      <th>2</th>\n",
              "      <td>0.082654</td>\n",
              "      <td>0.475140</td>\n",
              "      <td>0.299225</td>\n",
              "      <td>0.958496</td>\n",
              "      <td>0.302752</td>\n",
              "      <td>0.723545</td>\n",
              "      <td>0.145503</td>\n",
              "    </tr>\n",
              "    <tr>\n",
              "      <th>3</th>\n",
              "      <td>0.086383</td>\n",
              "      <td>0.458412</td>\n",
              "      <td>0.716311</td>\n",
              "      <td>0.319382</td>\n",
              "      <td>0.522936</td>\n",
              "      <td>0.548942</td>\n",
              "      <td>0.224868</td>\n",
              "    </tr>\n",
              "    <tr>\n",
              "      <th>4</th>\n",
              "      <td>0.082930</td>\n",
              "      <td>0.486204</td>\n",
              "      <td>0.192357</td>\n",
              "      <td>0.159566</td>\n",
              "      <td>0.305810</td>\n",
              "      <td>0.756614</td>\n",
              "      <td>0.111111</td>\n",
              "    </tr>\n",
              "  </tbody>\n",
              "</table>\n",
              "</div>"
            ],
            "text/plain": [
              "      Close  Subjectivity  Polarity  Compound  Negative   Neutral  Positive\n",
              "0  0.077391      0.298148  0.404464  0.072207  0.382263  0.699735  0.134921\n",
              "1  0.079635      0.429167  0.287402  0.200270  0.403670  0.675926  0.149471\n",
              "2  0.082654      0.475140  0.299225  0.958496  0.302752  0.723545  0.145503\n",
              "3  0.086383      0.458412  0.716311  0.319382  0.522936  0.548942  0.224868\n",
              "4  0.082930      0.486204  0.192357  0.159566  0.305810  0.756614  0.111111"
            ]
          },
          "metadata": {
            "tags": []
          },
          "execution_count": 34
        }
      ]
    },
    {
      "cell_type": "code",
      "metadata": {
        "id": "Msiy0xMTZYZL"
      },
      "source": [
        "X = new_df.drop('Close', axis=1)\n",
        "y =new_df['Close']"
      ],
      "execution_count": null,
      "outputs": []
    },
    {
      "cell_type": "code",
      "metadata": {
        "colab": {
          "base_uri": "https://localhost:8080/",
          "height": 204
        },
        "id": "ugQTWzAuZb_6",
        "outputId": "79504841-0d68-41d1-d0bb-3a10f6d40fd5"
      },
      "source": [
        "X.head()"
      ],
      "execution_count": null,
      "outputs": [
        {
          "output_type": "execute_result",
          "data": {
            "text/html": [
              "<div>\n",
              "<style scoped>\n",
              "    .dataframe tbody tr th:only-of-type {\n",
              "        vertical-align: middle;\n",
              "    }\n",
              "\n",
              "    .dataframe tbody tr th {\n",
              "        vertical-align: top;\n",
              "    }\n",
              "\n",
              "    .dataframe thead th {\n",
              "        text-align: right;\n",
              "    }\n",
              "</style>\n",
              "<table border=\"1\" class=\"dataframe\">\n",
              "  <thead>\n",
              "    <tr style=\"text-align: right;\">\n",
              "      <th></th>\n",
              "      <th>Subjectivity</th>\n",
              "      <th>Polarity</th>\n",
              "      <th>Compound</th>\n",
              "      <th>Negative</th>\n",
              "      <th>Neutral</th>\n",
              "      <th>Positive</th>\n",
              "    </tr>\n",
              "  </thead>\n",
              "  <tbody>\n",
              "    <tr>\n",
              "      <th>0</th>\n",
              "      <td>0.298148</td>\n",
              "      <td>0.404464</td>\n",
              "      <td>0.072207</td>\n",
              "      <td>0.382263</td>\n",
              "      <td>0.699735</td>\n",
              "      <td>0.134921</td>\n",
              "    </tr>\n",
              "    <tr>\n",
              "      <th>1</th>\n",
              "      <td>0.429167</td>\n",
              "      <td>0.287402</td>\n",
              "      <td>0.200270</td>\n",
              "      <td>0.403670</td>\n",
              "      <td>0.675926</td>\n",
              "      <td>0.149471</td>\n",
              "    </tr>\n",
              "    <tr>\n",
              "      <th>2</th>\n",
              "      <td>0.475140</td>\n",
              "      <td>0.299225</td>\n",
              "      <td>0.958496</td>\n",
              "      <td>0.302752</td>\n",
              "      <td>0.723545</td>\n",
              "      <td>0.145503</td>\n",
              "    </tr>\n",
              "    <tr>\n",
              "      <th>3</th>\n",
              "      <td>0.458412</td>\n",
              "      <td>0.716311</td>\n",
              "      <td>0.319382</td>\n",
              "      <td>0.522936</td>\n",
              "      <td>0.548942</td>\n",
              "      <td>0.224868</td>\n",
              "    </tr>\n",
              "    <tr>\n",
              "      <th>4</th>\n",
              "      <td>0.486204</td>\n",
              "      <td>0.192357</td>\n",
              "      <td>0.159566</td>\n",
              "      <td>0.305810</td>\n",
              "      <td>0.756614</td>\n",
              "      <td>0.111111</td>\n",
              "    </tr>\n",
              "  </tbody>\n",
              "</table>\n",
              "</div>"
            ],
            "text/plain": [
              "   Subjectivity  Polarity  Compound  Negative   Neutral  Positive\n",
              "0      0.298148  0.404464  0.072207  0.382263  0.699735  0.134921\n",
              "1      0.429167  0.287402  0.200270  0.403670  0.675926  0.149471\n",
              "2      0.475140  0.299225  0.958496  0.302752  0.723545  0.145503\n",
              "3      0.458412  0.716311  0.319382  0.522936  0.548942  0.224868\n",
              "4      0.486204  0.192357  0.159566  0.305810  0.756614  0.111111"
            ]
          },
          "metadata": {
            "tags": []
          },
          "execution_count": 36
        }
      ]
    },
    {
      "cell_type": "code",
      "metadata": {
        "colab": {
          "base_uri": "https://localhost:8080/"
        },
        "id": "8VbMftNfZdmf",
        "outputId": "8ccca550-b6b2-4554-ebba-c7b9a153f12f"
      },
      "source": [
        "x_train, x_test, y_train, y_test = train_test_split(X, y, test_size=0.2, random_state = 0)\n",
        "x_train.shape"
      ],
      "execution_count": null,
      "outputs": [
        {
          "output_type": "execute_result",
          "data": {
            "text/plain": [
              "(1965, 6)"
            ]
          },
          "metadata": {
            "tags": []
          },
          "execution_count": 37
        }
      ]
    },
    {
      "cell_type": "code",
      "metadata": {
        "colab": {
          "base_uri": "https://localhost:8080/",
          "height": 359
        },
        "id": "CpxofDWhZfRP",
        "outputId": "89c75ae7-3e57-4b2f-f1aa-49355d377ec3"
      },
      "source": [
        "x_train[:10]"
      ],
      "execution_count": null,
      "outputs": [
        {
          "output_type": "execute_result",
          "data": {
            "text/html": [
              "<div>\n",
              "<style scoped>\n",
              "    .dataframe tbody tr th:only-of-type {\n",
              "        vertical-align: middle;\n",
              "    }\n",
              "\n",
              "    .dataframe tbody tr th {\n",
              "        vertical-align: top;\n",
              "    }\n",
              "\n",
              "    .dataframe thead th {\n",
              "        text-align: right;\n",
              "    }\n",
              "</style>\n",
              "<table border=\"1\" class=\"dataframe\">\n",
              "  <thead>\n",
              "    <tr style=\"text-align: right;\">\n",
              "      <th></th>\n",
              "      <th>Subjectivity</th>\n",
              "      <th>Polarity</th>\n",
              "      <th>Compound</th>\n",
              "      <th>Negative</th>\n",
              "      <th>Neutral</th>\n",
              "      <th>Positive</th>\n",
              "    </tr>\n",
              "  </thead>\n",
              "  <tbody>\n",
              "    <tr>\n",
              "      <th>229</th>\n",
              "      <td>0.394541</td>\n",
              "      <td>0.502317</td>\n",
              "      <td>0.013351</td>\n",
              "      <td>0.336391</td>\n",
              "      <td>0.714286</td>\n",
              "      <td>0.138889</td>\n",
              "    </tr>\n",
              "    <tr>\n",
              "      <th>581</th>\n",
              "      <td>0.358736</td>\n",
              "      <td>0.338708</td>\n",
              "      <td>0.001500</td>\n",
              "      <td>0.415902</td>\n",
              "      <td>0.679894</td>\n",
              "      <td>0.140212</td>\n",
              "    </tr>\n",
              "    <tr>\n",
              "      <th>200</th>\n",
              "      <td>0.390131</td>\n",
              "      <td>0.382929</td>\n",
              "      <td>0.000800</td>\n",
              "      <td>0.394495</td>\n",
              "      <td>0.701058</td>\n",
              "      <td>0.128307</td>\n",
              "    </tr>\n",
              "    <tr>\n",
              "      <th>1680</th>\n",
              "      <td>0.335868</td>\n",
              "      <td>0.367705</td>\n",
              "      <td>0.001050</td>\n",
              "      <td>0.391437</td>\n",
              "      <td>0.738095</td>\n",
              "      <td>0.093915</td>\n",
              "    </tr>\n",
              "    <tr>\n",
              "      <th>2068</th>\n",
              "      <td>0.412907</td>\n",
              "      <td>0.378233</td>\n",
              "      <td>0.000050</td>\n",
              "      <td>0.513761</td>\n",
              "      <td>0.653439</td>\n",
              "      <td>0.124339</td>\n",
              "    </tr>\n",
              "    <tr>\n",
              "      <th>2093</th>\n",
              "      <td>0.395759</td>\n",
              "      <td>0.399242</td>\n",
              "      <td>0.000050</td>\n",
              "      <td>0.480122</td>\n",
              "      <td>0.681217</td>\n",
              "      <td>0.111111</td>\n",
              "    </tr>\n",
              "    <tr>\n",
              "      <th>1980</th>\n",
              "      <td>0.362617</td>\n",
              "      <td>0.391030</td>\n",
              "      <td>0.001700</td>\n",
              "      <td>0.467890</td>\n",
              "      <td>0.619048</td>\n",
              "      <td>0.178571</td>\n",
              "    </tr>\n",
              "    <tr>\n",
              "      <th>1490</th>\n",
              "      <td>0.284133</td>\n",
              "      <td>0.206838</td>\n",
              "      <td>0.001600</td>\n",
              "      <td>0.418960</td>\n",
              "      <td>0.727513</td>\n",
              "      <td>0.091270</td>\n",
              "    </tr>\n",
              "    <tr>\n",
              "      <th>1789</th>\n",
              "      <td>0.379761</td>\n",
              "      <td>0.275170</td>\n",
              "      <td>0.000300</td>\n",
              "      <td>0.541284</td>\n",
              "      <td>0.619048</td>\n",
              "      <td>0.145503</td>\n",
              "    </tr>\n",
              "    <tr>\n",
              "      <th>828</th>\n",
              "      <td>0.441326</td>\n",
              "      <td>0.444282</td>\n",
              "      <td>0.005201</td>\n",
              "      <td>0.431193</td>\n",
              "      <td>0.653439</td>\n",
              "      <td>0.160053</td>\n",
              "    </tr>\n",
              "  </tbody>\n",
              "</table>\n",
              "</div>"
            ],
            "text/plain": [
              "      Subjectivity  Polarity  Compound  Negative   Neutral  Positive\n",
              "229       0.394541  0.502317  0.013351  0.336391  0.714286  0.138889\n",
              "581       0.358736  0.338708  0.001500  0.415902  0.679894  0.140212\n",
              "200       0.390131  0.382929  0.000800  0.394495  0.701058  0.128307\n",
              "1680      0.335868  0.367705  0.001050  0.391437  0.738095  0.093915\n",
              "2068      0.412907  0.378233  0.000050  0.513761  0.653439  0.124339\n",
              "2093      0.395759  0.399242  0.000050  0.480122  0.681217  0.111111\n",
              "1980      0.362617  0.391030  0.001700  0.467890  0.619048  0.178571\n",
              "1490      0.284133  0.206838  0.001600  0.418960  0.727513  0.091270\n",
              "1789      0.379761  0.275170  0.000300  0.541284  0.619048  0.145503\n",
              "828       0.441326  0.444282  0.005201  0.431193  0.653439  0.160053"
            ]
          },
          "metadata": {
            "tags": []
          },
          "execution_count": 38
        }
      ]
    },
    {
      "cell_type": "code",
      "metadata": {
        "id": "0iOUPFxPZg_c"
      },
      "source": [
        "rf = RandomForestRegressor()\n",
        "rf.fit(x_train, y_train)\n",
        "prediction=rf.predict(x_test)"
      ],
      "execution_count": null,
      "outputs": []
    },
    {
      "cell_type": "code",
      "metadata": {
        "colab": {
          "base_uri": "https://localhost:8080/"
        },
        "id": "yW4W9pGJZkD4",
        "outputId": "0b5a897f-8e22-4dff-bbe8-77dd03e9e7d1"
      },
      "source": [
        "print(prediction[:10])\n",
        "print(y_test[:10])\n",
        "print(mean_squared_error(prediction,y_test))"
      ],
      "execution_count": null,
      "outputs": [
        {
          "output_type": "stream",
          "text": [
            "[0.29642962 0.39273624 0.59076884 0.36527941 0.41394986 0.26677396\n",
            " 0.17655909 0.31507634 0.34177672 0.28937225]\n",
            "1257    0.437841\n",
            "1338    0.436885\n",
            "1665    0.866922\n",
            "712     0.161693\n",
            "2077    0.631142\n",
            "330     0.040600\n",
            "156     0.006294\n",
            "1412    0.563379\n",
            "1173    0.293174\n",
            "1794    0.812267\n",
            "Name: Close, dtype: float64\n",
            "0.08526851582848684\n"
          ],
          "name": "stdout"
        }
      ]
    },
    {
      "cell_type": "code",
      "metadata": {
        "id": "Dt32xg21Zlqz"
      },
      "source": [
        "adb = AdaBoostRegressor()\n",
        "adb.fit(x_train, y_train)\n",
        "predictions = adb.predict(x_test)"
      ],
      "execution_count": null,
      "outputs": []
    },
    {
      "cell_type": "code",
      "metadata": {
        "colab": {
          "base_uri": "https://localhost:8080/"
        },
        "id": "xGX1okKtZoqG",
        "outputId": "1d68a37c-e1e6-417f-fdfa-b68662229515"
      },
      "source": [
        "print(mean_squared_error(predictions, y_test))"
      ],
      "execution_count": null,
      "outputs": [
        {
          "output_type": "stream",
          "text": [
            "0.08055303353682736\n"
          ],
          "name": "stdout"
        }
      ]
    },
    {
      "cell_type": "code",
      "metadata": {
        "id": "mimgM8EEZrxK"
      },
      "source": [
        "from sklearn.tree import DecisionTreeRegressor\n",
        "dec_tree = DecisionTreeRegressor()\n",
        "dec_tree.fit(x_train, y_train)\n",
        "predictions = dec_tree.predict(x_test)"
      ],
      "execution_count": null,
      "outputs": []
    },
    {
      "cell_type": "code",
      "metadata": {
        "colab": {
          "base_uri": "https://localhost:8080/"
        },
        "id": "MiccW0fIZut_",
        "outputId": "e9163ee1-afed-456b-f937-9e66280a4f08"
      },
      "source": [
        "print(predictions[:10])\n",
        "print(y_test[:10])\n",
        "print(mean_squared_error(predictions,y_test))"
      ],
      "execution_count": null,
      "outputs": [
        {
          "output_type": "stream",
          "text": [
            "[0.15955227 0.51440074 0.63641884 0.57125157 0.47373116 0.04373032\n",
            " 0.02302157 0.18336918 0.41870003 0.507544  ]\n",
            "1257    0.437841\n",
            "1338    0.436885\n",
            "1665    0.866922\n",
            "712     0.161693\n",
            "2077    0.631142\n",
            "330     0.040600\n",
            "156     0.006294\n",
            "1412    0.563379\n",
            "1173    0.293174\n",
            "1794    0.812267\n",
            "Name: Close, dtype: float64\n",
            "0.15353897502534433\n"
          ],
          "name": "stdout"
        }
      ]
    },
    {
      "cell_type": "code",
      "metadata": {
        "colab": {
          "base_uri": "https://localhost:8080/"
        },
        "id": "Ldsiy8NYZxMJ",
        "outputId": "93ef3f45-6599-424d-ad34-c8eb82e4e9f9"
      },
      "source": [
        "lgb = lightgbm.LGBMRegressor()\n",
        "lgb.fit(x_train, y_train)"
      ],
      "execution_count": null,
      "outputs": [
        {
          "output_type": "execute_result",
          "data": {
            "text/plain": [
              "LGBMRegressor(boosting_type='gbdt', class_weight=None, colsample_bytree=1.0,\n",
              "              importance_type='split', learning_rate=0.1, max_depth=-1,\n",
              "              min_child_samples=20, min_child_weight=0.001, min_split_gain=0.0,\n",
              "              n_estimators=100, n_jobs=-1, num_leaves=31, objective=None,\n",
              "              random_state=None, reg_alpha=0.0, reg_lambda=0.0, silent=True,\n",
              "              subsample=1.0, subsample_for_bin=200000, subsample_freq=0)"
            ]
          },
          "metadata": {
            "tags": []
          },
          "execution_count": 46
        }
      ]
    },
    {
      "cell_type": "code",
      "metadata": {
        "colab": {
          "base_uri": "https://localhost:8080/"
        },
        "id": "9mg-ruo6Z0gt",
        "outputId": "d7055564-a9db-4953-fb99-8eeab6af0184"
      },
      "source": [
        "predictions = lgb.predict(x_test)\n",
        "print(mean_squared_error(predictions,y_test))"
      ],
      "execution_count": null,
      "outputs": [
        {
          "output_type": "stream",
          "text": [
            "0.08882180271292617\n"
          ],
          "name": "stdout"
        }
      ]
    },
    {
      "cell_type": "code",
      "metadata": {
        "colab": {
          "base_uri": "https://localhost:8080/"
        },
        "id": "HRGaKAKIZ7fS",
        "outputId": "ac8a416a-733a-49f7-bb4b-363f0b98c978"
      },
      "source": [
        "xgb = xgboost.XGBRegressor()\n",
        "xgb.fit(x_train, y_train)"
      ],
      "execution_count": null,
      "outputs": [
        {
          "output_type": "stream",
          "text": [
            "[08:34:09] WARNING: /workspace/src/objective/regression_obj.cu:152: reg:linear is now deprecated in favor of reg:squarederror.\n"
          ],
          "name": "stdout"
        },
        {
          "output_type": "execute_result",
          "data": {
            "text/plain": [
              "XGBRegressor(base_score=0.5, booster='gbtree', colsample_bylevel=1,\n",
              "             colsample_bynode=1, colsample_bytree=1, gamma=0,\n",
              "             importance_type='gain', learning_rate=0.1, max_delta_step=0,\n",
              "             max_depth=3, min_child_weight=1, missing=None, n_estimators=100,\n",
              "             n_jobs=1, nthread=None, objective='reg:linear', random_state=0,\n",
              "             reg_alpha=0, reg_lambda=1, scale_pos_weight=1, seed=None,\n",
              "             silent=None, subsample=1, verbosity=1)"
            ]
          },
          "metadata": {
            "tags": []
          },
          "execution_count": 48
        }
      ]
    },
    {
      "cell_type": "code",
      "metadata": {
        "colab": {
          "base_uri": "https://localhost:8080/"
        },
        "id": "FwbGZqD-Z9jn",
        "outputId": "1fda85f6-87cf-4f57-abb0-589fedc53100"
      },
      "source": [
        "predictions = xgb.predict(x_test)\n",
        "print(mean_squared_error(predictions,y_test))"
      ],
      "execution_count": null,
      "outputs": [
        {
          "output_type": "stream",
          "text": [
            "0.08054861057878424\n"
          ],
          "name": "stdout"
        }
      ]
    },
    {
      "cell_type": "markdown",
      "metadata": {
        "id": "m1FFOFnDaGFg"
      },
      "source": [
        "**I have used Auto-ARIMA model to make stock market prices predictions using the historical stock prices data. In the sentiment analysis model, I have made use of different machine learning algorithms-Random Forest Regressor, LightGBM, Adaboost and Xgboost- to make the predictions.**  \n",
        "\n",
        "##**Thank You!**"
      ]
    }
  ]
}